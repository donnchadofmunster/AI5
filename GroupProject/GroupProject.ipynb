{
 "cells": [
  {
   "cell_type": "code",
   "execution_count": 4,
   "metadata": {},
   "outputs": [
    {
     "name": "stdout",
     "output_type": "stream",
     "text": [
      "✅ Loaded 2666 samples.\n",
      "✅ Loaded 2666 images with labels.\n",
      "Images Tensor Shape: torch.Size([2666, 1, 128, 128])\n",
      "Labels Tensor Shape: torch.Size([2666])\n"
     ]
    }
   ],
   "source": [
    "import os \n",
    "os.environ['KMP_DUPLICATE_LIB_OK'] = 'TRUE'\n",
    "import pandas as pd\n",
    "import os\n",
    "import cv2\n",
    "import numpy as np\n",
    "import torch\n",
    "import torch\n",
    "import torch.nn as nn\n",
    "import torch.optim as optim\n",
    "from torch.utils.data import Dataset, DataLoader\n",
    "\n",
    "# Load CSV dataset\n",
    "csv_path = \"training_data/training_data.csv\"\n",
    "image_dir = \"training_data/images/\"\n",
    "\n",
    "df = pd.read_csv(csv_path)\n",
    "print(f\"✅ Loaded {len(df)} samples.\")\n",
    "\n",
    "# ✅ Check for missing values\n",
    "df = df.dropna()  # Remove any rows with missing values\n",
    "\n",
    "# Convert labels to tensors\n",
    "labels = df[\"steering_output\"].values\n",
    "\n",
    "# ✅ Function to load and preprocess images\n",
    "def load_and_preprocess_images(df, image_dir, img_size=(128, 128)):\n",
    "    images = []\n",
    "    labels = []\n",
    "    \n",
    "    for _, row in df.iterrows():\n",
    "        img_path = os.path.join(image_dir, row[\"image_filename\"])\n",
    "        img = cv2.imread(img_path, cv2.IMREAD_GRAYSCALE)\n",
    "\n",
    "        if img is not None:\n",
    "            img = cv2.resize(img, img_size)  # Resize for CNN input\n",
    "            img = img / 255.0  # Normalize\n",
    "            images.append(img)\n",
    "            labels.append(int(row[\"steering_output\"]))\n",
    "\n",
    "    return np.array(images), np.array(labels)\n",
    "\n",
    "# Load dataset\n",
    "X, y = load_and_preprocess_images(df, image_dir)\n",
    "print(f\"✅ Loaded {len(X)} images with labels.\")\n",
    "\n",
    "# Convert to PyTorch tensors\n",
    "X_tensor = torch.tensor(X).unsqueeze(1).float()  # Add channel dimension\n",
    "y_tensor = torch.tensor(y).long()\n",
    "\n",
    "# Verify shapes\n",
    "print(f\"Images Tensor Shape: {X_tensor.shape}\")  # Expected: (num_samples, 1, 128, 128)\n",
    "print(f\"Labels Tensor Shape: {y_tensor.shape}\")  # Expected: (num_samples,)\n"
   ]
  },
  {
   "cell_type": "code",
   "execution_count": 3,
   "metadata": {},
   "outputs": [
    {
     "name": "stdout",
     "output_type": "stream",
     "text": [
      "✅ PyTorch DataLoaders Ready!\n"
     ]
    }
   ],
   "source": [
    "class LineFollowerDataset(Dataset):\n",
    "    def __init__(self, X, y):\n",
    "        self.X = X\n",
    "        self.y = y\n",
    "\n",
    "    def __len__(self):\n",
    "        return len(self.X)\n",
    "\n",
    "    def __getitem__(self, idx):\n",
    "        return self.X[idx], self.y[idx]\n",
    "\n",
    "# ✅ Split dataset into training & test sets (80%-20%)\n",
    "train_size = int(0.8 * len(X_tensor))\n",
    "test_size = len(X_tensor) - train_size\n",
    "\n",
    "train_dataset, test_dataset = torch.utils.data.random_split(\n",
    "    LineFollowerDataset(X_tensor, y_tensor), [train_size, test_size]\n",
    ")\n",
    "\n",
    "# Create PyTorch DataLoaders\n",
    "train_loader = DataLoader(train_dataset, batch_size=32, shuffle=True)\n",
    "test_loader = DataLoader(test_dataset, batch_size=32, shuffle=False)\n",
    "\n",
    "print(\"✅ PyTorch DataLoaders Ready!\")\n"
   ]
  },
  {
   "cell_type": "code",
   "execution_count": 5,
   "metadata": {},
   "outputs": [
    {
     "name": "stdout",
     "output_type": "stream",
     "text": [
      "✅ CNN Model Initialized!\n"
     ]
    }
   ],
   "source": [
    "\n",
    "\n",
    "# ✅ Define CNN Model for Line Following\n",
    "class LineFollowerCNN(nn.Module):\n",
    "    def __init__(self):\n",
    "        super(LineFollowerCNN, self).__init__()\n",
    "\n",
    "        self.conv1 = nn.Conv2d(in_channels=1, out_channels=16, kernel_size=3, stride=1, padding=1)\n",
    "        self.conv2 = nn.Conv2d(in_channels=16, out_channels=32, kernel_size=3, stride=1, padding=1)\n",
    "        self.pool = nn.MaxPool2d(kernel_size=2, stride=2)\n",
    "\n",
    "        self.fc1 = nn.Linear(32 * 32 * 32, 128)  # 32x32 after pooling twice\n",
    "        self.fc2 = nn.Linear(128, 4)  # 4 output classes (steering commands)\n",
    "\n",
    "    def forward(self, x):\n",
    "        x = self.pool(torch.relu(self.conv1(x)))\n",
    "        x = self.pool(torch.relu(self.conv2(x)))\n",
    "        x = x.view(x.size(0), -1)  # Flatten\n",
    "        x = torch.relu(self.fc1(x))\n",
    "        x = self.fc2(x)  # No activation function here (CrossEntropyLoss applies softmax internally)\n",
    "        return x\n",
    "\n",
    "# ✅ Initialize model, loss function, and optimizer\n",
    "model = LineFollowerCNN()\n",
    "criterion = nn.CrossEntropyLoss()  # Classification loss function\n",
    "optimizer = optim.Adam(model.parameters(), lr=0.001)\n",
    "\n",
    "print(\"✅ CNN Model Initialized!\")\n"
   ]
  },
  {
   "cell_type": "code",
   "execution_count": 6,
   "metadata": {},
   "outputs": [
    {
     "name": "stdout",
     "output_type": "stream",
     "text": [
      "Epoch [1/10], Loss: 0.0551\n",
      "Epoch [2/10], Loss: 0.0171\n",
      "Epoch [3/10], Loss: 0.0070\n",
      "Epoch [4/10], Loss: 0.0031\n",
      "Epoch [5/10], Loss: 0.0072\n",
      "Epoch [6/10], Loss: 0.0035\n",
      "Epoch [7/10], Loss: 0.0006\n",
      "Epoch [8/10], Loss: 0.0002\n",
      "Epoch [9/10], Loss: 0.0001\n",
      "Epoch [10/10], Loss: 0.0000\n",
      "✅ Model training complete and saved as 'line_follower_cnn.pth'.\n"
     ]
    }
   ],
   "source": [
    "# ✅ Training Parameters\n",
    "num_epochs = 10  # Adjust as needed\n",
    "device = torch.device(\"cuda\" if torch.cuda.is_available() else \"cpu\")\n",
    "model.to(device)\n",
    "\n",
    "# ✅ Training Loop\n",
    "for epoch in range(num_epochs):\n",
    "    total_loss = 0\n",
    "\n",
    "    for images, labels in train_loader:\n",
    "        images, labels = images.to(device), labels.to(device)\n",
    "\n",
    "        optimizer.zero_grad()\n",
    "        outputs = model(images)\n",
    "        loss = criterion(outputs, labels)\n",
    "        loss.backward()\n",
    "        optimizer.step()\n",
    "\n",
    "        total_loss += loss.item()\n",
    "\n",
    "    print(f\"Epoch [{epoch+1}/{num_epochs}], Loss: {total_loss/len(train_loader):.4f}\")\n",
    "\n",
    "# ✅ Save the trained model\n",
    "torch.save(model.state_dict(), \"line_follower_cnn.pth\")\n",
    "print(\"✅ Model training complete and saved as 'line_follower_cnn.pth'.\")\n"
   ]
  },
  {
   "cell_type": "code",
   "execution_count": 7,
   "metadata": {},
   "outputs": [
    {
     "name": "stdout",
     "output_type": "stream",
     "text": [
      "✅ Model Accuracy on Test Data: 100.00%\n"
     ]
    }
   ],
   "source": [
    "# ✅ Evaluation Mode\n",
    "model.eval()\n",
    "\n",
    "correct = 0\n",
    "total = 0\n",
    "\n",
    "with torch.no_grad():\n",
    "    for images, labels in test_loader:\n",
    "        images, labels = images.to(device), labels.to(device)\n",
    "\n",
    "        outputs = model(images)\n",
    "        _, predicted = torch.max(outputs, 1)\n",
    "\n",
    "        total += labels.size(0)\n",
    "        correct += (predicted == labels).sum().item()\n",
    "\n",
    "accuracy = 100 * correct / total\n",
    "print(f\"✅ Model Accuracy on Test Data: {accuracy:.2f}%\")\n"
   ]
  }
 ],
 "metadata": {
  "kernelspec": {
   "display_name": "Python (base)",
   "language": "python",
   "name": "base"
  },
  "language_info": {
   "codemirror_mode": {
    "name": "ipython",
    "version": 3
   },
   "file_extension": ".py",
   "mimetype": "text/x-python",
   "name": "python",
   "nbconvert_exporter": "python",
   "pygments_lexer": "ipython3",
   "version": "3.12.7"
  }
 },
 "nbformat": 4,
 "nbformat_minor": 2
}
